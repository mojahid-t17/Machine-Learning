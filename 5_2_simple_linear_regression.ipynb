{
  "nbformat": 4,
  "nbformat_minor": 0,
  "metadata": {
    "colab": {
      "provenance": [],
      "authorship_tag": "ABX9TyO4+VBJwtHBHV7+ufB3Jcof",
      "include_colab_link": true
    },
    "kernelspec": {
      "name": "python3",
      "display_name": "Python 3"
    },
    "language_info": {
      "name": "python"
    }
  },
  "cells": [
    {
      "cell_type": "markdown",
      "metadata": {
        "id": "view-in-github",
        "colab_type": "text"
      },
      "source": [
        "<a href=\"https://colab.research.google.com/github/mojahid-t17/Machine-Learning/blob/main/5_2_simple_linear_regression.ipynb\" target=\"_parent\"><img src=\"https://colab.research.google.com/assets/colab-badge.svg\" alt=\"Open In Colab\"/></a>"
      ]
    },
    {
      "cell_type": "code",
      "execution_count": null,
      "metadata": {
        "id": "0AXovnu-Ztqw"
      },
      "outputs": [],
      "source": [
        "import pandas as pd\n",
        "import matplotlib.pyplot as plt\n",
        "import numpy as np\n",
        "import seaborn as sns\n"
      ]
    },
    {
      "cell_type": "code",
      "source": [
        "#import dataset:\n",
        "# Sample dataset (Salary vs Experience)\n",
        "data = {\n",
        "    \"YearsExperience\": [1.1, 2.3, 3.3, 4.5, 5.1, 6.3, 7.4, 8.5, 9.6, 10.3],\n",
        "    \"Salary\": [39343, 46205, 60150, 61111, 66029, 81363, 91738, 100000, 105000, 112000]\n",
        "}\n",
        "\n",
        "df = pd.DataFrame(data)\n",
        "print(df.head())\n"
      ],
      "metadata": {
        "colab": {
          "base_uri": "https://localhost:8080/"
        },
        "id": "gTwcGVfJaW7l",
        "outputId": "cffb2f4c-180c-4702-bc7c-478385001519"
      },
      "execution_count": null,
      "outputs": [
        {
          "output_type": "stream",
          "name": "stdout",
          "text": [
            "   YearsExperience  Salary\n",
            "0              1.1   39343\n",
            "1              2.3   46205\n",
            "2              3.3   60150\n",
            "3              4.5   61111\n",
            "4              5.1   66029\n"
          ]
        }
      ]
    },
    {
      "cell_type": "code",
      "source": [
        "#ploting the data\n",
        "sns.scatterplot(x=df['YearsExperience'],y=df['Salary'])\n",
        "plt.xlabel(\"Years of Experience\")\n",
        "plt.ylabel(\"Salary\")\n",
        "plt.title(\"Salary vs Years of Experience\")"
      ],
      "metadata": {
        "colab": {
          "base_uri": "https://localhost:8080/",
          "height": 489
        },
        "id": "YhkdnP4UbNVF",
        "outputId": "79e54802-1fd0-481b-c631-e04d07d01c63"
      },
      "execution_count": null,
      "outputs": [
        {
          "output_type": "execute_result",
          "data": {
            "text/plain": [
              "Text(0.5, 1.0, 'Salary vs Years of Experience')"
            ]
          },
          "metadata": {},
          "execution_count": 3
        },
        {
          "output_type": "display_data",
          "data": {
            "text/plain": [
              "<Figure size 640x480 with 1 Axes>"
            ],
            "image/png": "[encoded data removed]"
          },
          "metadata": {}
        }
      ]
    },
    {
      "cell_type": "code",
      "source": [
        "#  Prepare Data for Training\n",
        "X = df[[\"YearsExperience\"]]\n",
        "y = df[\"Salary\"]  # Dependent variable (1D array)"
      ],
      "metadata": {
        "id": "4YbYwI45d69v"
      },
      "execution_count": null,
      "outputs": []
    },
    {
      "cell_type": "code",
      "source": [
        "# Split Data into Training & Testing Sets\n",
        "from sklearn.model_selection import train_test_split\n",
        "X_train,X_test,Y_train,Y_test=train_test_split(X,y,test_size=0.2, random_state=2)"
      ],
      "metadata": {
        "id": "zzIE0j4xeGjA"
      },
      "execution_count": null,
      "outputs": []
    },
    {
      "cell_type": "code",
      "source": [
        "from sklearn.linear_model import LinearRegression\n",
        "regressor=LinearRegression()"
      ],
      "metadata": {
        "id": "I5y_F6wIfD59"
      },
      "execution_count": null,
      "outputs": []
    },
    {
      "cell_type": "code",
      "source": [
        "# Train the Linear Regression Model\n",
        "# Initialize the model\n",
        "regressor = LinearRegression()\n",
        "\n",
        "# Train (fit) the model\n",
        "regressor.fit(X_train, Y_train)\n",
        "\n",
        "# Print the coefficient (slope) and intercept\n",
        "print(f\"Slope (w): {regressor.coef_[0]}\")\n",
        "print(f\"Intercept (b): {regressor.intercept_}\")\n",
        "\n",
        "\n"
      ],
      "metadata": {
        "colab": {
          "base_uri": "https://localhost:8080/"
        },
        "id": "VW1Lpf9Pe7Gw",
        "outputId": "11efd179-31ea-4397-83ba-b67104637b3f"
      },
      "execution_count": null,
      "outputs": [
        {
          "output_type": "stream",
          "name": "stdout",
          "text": [
            "Slope (w): 7919.300658122618\n",
            "Intercept (b): 30852.58330446831\n"
          ]
        }
      ]
    },
    {
      "cell_type": "code",
      "source": [
        "# Predict salaries for test data\n",
        "y_pred = regressor.predict(X_test)\n",
        "\n",
        "# Compare actual vs predicted values\n",
        "predictions_df = pd.DataFrame({\"Actual\": Y_test, \"Predicted\": y_pred})\n",
        "print(predictions_df)\n"
      ],
      "metadata": {
        "colab": {
          "base_uri": "https://localhost:8080/"
        },
        "id": "Fw-rgGE9gdVG",
        "outputId": "f602b5ff-64f4-4ce5-ca99-3d9b1f65d360"
      },
      "execution_count": null,
      "outputs": [
        {
          "output_type": "stream",
          "name": "stdout",
          "text": [
            "   Actual     Predicted\n",
            "4   66029  71241.016661\n",
            "1   46205  49066.974818\n"
          ]
        }
      ]
    },
    {
      "cell_type": "code",
      "source": [
        "from sklearn.metrics import mean_absolute_error, mean_squared_error, r2_score"
      ],
      "metadata": {
        "id": "9OXGACTlg8bn"
      },
      "execution_count": null,
      "outputs": []
    },
    {
      "cell_type": "code",
      "source": [
        "# Evaluate Model Performance\n",
        "mae = mean_absolute_error(Y_test, y_pred)\n",
        "mse = mean_squared_error(Y_test, y_pred)\n",
        "rmse = np.sqrt(mse)\n",
        "r2 = r2_score(Y_test, y_pred)\n",
        "\n",
        "print(f\"Mean Absolute Error (MAE): {mae}\") #y^ -yi\n",
        "print(f\"Mean Squared Error (MSE): {mse}\")\n",
        "print(f\"Root Mean Squared Error (RMSE): {rmse}\")\n",
        "print(f\"R² Score: {r2}\")\n"
      ],
      "metadata": {
        "colab": {
          "base_uri": "https://localhost:8080/"
        },
        "id": "VSK-n0Jjgx22",
        "outputId": "708b682b-91c5-49a9-d134-99645a7a16e8"
      },
      "execution_count": null,
      "outputs": [
        {
          "output_type": "stream",
          "name": "stdout",
          "text": [
            "Mean Absolute Error (MAE): 4036.9957395219935\n",
            "Mean Squared Error (MSE): 17678008.76657984\n",
            "Root Mean Squared Error (RMSE): 4204.522418370467\n",
            "R² Score: 0.8200670260013315\n"
          ]
        }
      ]
    },
    {
      "cell_type": "code",
      "source": [
        "# Plot training data with regression line\n",
        "plt.figure(figsize=(8,5))\n",
        "sns.scatterplot(x=X_train[\"YearsExperience\"], y=Y_train, label=\"Training Data\")\n",
        "sns.lineplot(x=X_train[\"YearsExperience\"], y=regressor.predict(X_train), color='red', label=\"Regression Line\")\n",
        "plt.xlabel(\"Years of Experience\")\n",
        "plt.ylabel(\"Salary\")\n",
        "plt.title(\"Linear Regression (Training Set)\")\n",
        "plt.legend()\n",
        "plt.show()\n"
      ],
      "metadata": {
        "colab": {
          "base_uri": "https://localhost:8080/",
          "height": 487
        },
        "id": "JX_fEsx-hbjg",
        "outputId": "1fcf1a58-03a0-468e-cd4e-8864fecc46a8"
      },
      "execution_count": null,
      "outputs": [
        {
          "output_type": "display_data",
          "data": {
            "text/plain": [
              "<Figure size 800x500 with 1 Axes>"
            ],
            "image/png": "[encoded data removed]"
          },
          "metadata": {}
        }
      ]
    },
    {
      "cell_type": "code",
      "source": [
        "new_experience = np.array([[7.5]])  # Reshape to 2D\n",
        "predicted_salary = regressor.predict(new_experience)\n",
        "\n",
        "print(f\"Predicted Salary for 7.5 years experience: ${predicted_salary[0]:.2f}\")\n"
      ],
      "metadata": {
        "colab": {
          "base_uri": "https://localhost:8080/"
        },
        "id": "8zS4kG9XiuVh",
        "outputId": "37ca7b31-23a8-4d61-efaa-25eeb5ea2d64"
      },
      "execution_count": null,
      "outputs": [
        {
          "output_type": "stream",
          "name": "stdout",
          "text": [
            "Predicted Salary for 7.5 years experience: $90247.34\n"
          ]
        },
        {
          "output_type": "stream",
          "name": "stderr",
          "text": [
            "/usr/local/lib/python3.11/dist-packages/sklearn/utils/validation.py:2739: UserWarning: X does not have valid feature names, but LinearRegression was fitted with feature names\n",
            "  warnings.warn(\n"
          ]
        }
      ]
    },
    {
      "cell_type": "markdown",
      "source": [
        "# Model Evaluation\n",
        "R2 represents the percentage of variance in our response variable (y) that is explained by our model. That means in our case; the percentage of variance in y that can be explained by a variance in x.\n",
        "\n",
        "\n",
        "*   0% indicates that the model explains none of the variability of the response data around its mean.\n",
        "*  100% indicates that the model explains all the variability of the response data around its mean.\n",
        "\n"
      ],
      "metadata": {
        "id": "paDEfDV4q1xQ"
      }
    },
    {
      "cell_type": "code",
      "source": [
        "# Variational Measure / accuracy for regression:\n",
        "from sklearn.metrics import r2_score\n",
        "R2_score= r2_score(y,regressor.predict(X))\n",
        "R2_score"
      ],
      "metadata": {
        "colab": {
          "base_uri": "https://localhost:8080/"
        },
        "id": "Ls9H0xilqyia",
        "outputId": "043bc5bc-c5aa-480e-cf5c-0490fa96e6a9"
      },
      "execution_count": null,
      "outputs": [
        {
          "output_type": "execute_result",
          "data": {
            "text/plain": [
              "0.9849803101078151"
            ]
          },
          "metadata": {},
          "execution_count": 17
        }
      ]
    },
    {
      "cell_type": "code",
      "source": [
        "print('The R2 score of the model on the test set is:', regressor.score(X, y))"
      ],
      "metadata": {
        "colab": {
          "base_uri": "https://localhost:8080/"
        },
        "id": "Gf6_bDbysAe3",
        "outputId": "8abb7ac3-fb58-44e9-bb72-19006ec48bae"
      },
      "execution_count": null,
      "outputs": [
        {
          "output_type": "stream",
          "name": "stdout",
          "text": [
            "The R2 score of the model on the test set is: 0.9849803101078151\n"
          ]
        }
      ]
    },
    {
      "cell_type": "code",
      "source": [
        "# Mean Absolute Error   |yi-y_hat|\n",
        "# the MAE is the average difference over the predicted and actual target values.\n",
        "from sklearn.metrics import mean_absolute_error\n",
        "mae=mean_absolute_error(X,y)\n",
        "mae\n",
        "\n"
      ],
      "metadata": {
        "colab": {
          "base_uri": "https://localhost:8080/"
        },
        "id": "ONwwE3TVsrdf",
        "outputId": "b0e636f9-ebd4-44f5-f2a4-86b293ca9276"
      },
      "execution_count": null,
      "outputs": [
        {
          "output_type": "execute_result",
          "data": {
            "text/plain": [
              "76288.06"
            ]
          },
          "metadata": {},
          "execution_count": 21
        }
      ]
    },
    {
      "cell_type": "code",
      "source": [
        "#  Mean Squared Error (yi- h_hat)^2\n",
        "# the mse s the average squared difference over the predicted and actual target values.\n",
        "from sklearn.metrics import mean_squared_error\n",
        "mse= mean_squared_error(X,y)\n",
        "mse"
      ],
      "metadata": {
        "colab": {
          "base_uri": "https://localhost:8080/"
        },
        "id": "p0UFua_Etlar",
        "outputId": "79495e80-d2aa-4ce9-b1e0-3381259adc82"
      },
      "execution_count": null,
      "outputs": [
        {
          "output_type": "execute_result",
          "data": {
            "text/plain": [
              "6398965249.9"
            ]
          },
          "metadata": {},
          "execution_count": 23
        }
      ]
    }
  ]
}