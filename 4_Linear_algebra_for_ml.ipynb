{
  "nbformat": 4,
  "nbformat_minor": 0,
  "metadata": {
    "colab": {
      "provenance": [],
      "authorship_tag": "ABX9TyPvklk2TaPKHONhGO3TsHh6",
      "include_colab_link": true
    },
    "kernelspec": {
      "name": "python3",
      "display_name": "Python 3"
    },
    "language_info": {
      "name": "python"
    }
  },
  "cells": [
    {
      "cell_type": "markdown",
      "metadata": {
        "id": "view-in-github",
        "colab_type": "text"
      },
      "source": [
        "<a href=\"https://colab.research.google.com/github/mojahid-t17/Machine-Learning/blob/main/4_Linear_algebra_for_ml.ipynb\" target=\"_parent\"><img src=\"https://colab.research.google.com/assets/colab-badge.svg\" alt=\"Open In Colab\"/></a>"
      ]
    },
    {
      "cell_type": "markdown",
      "source": [
        "#1 - Representing and Solving System of Linear Equations using Matrices\n"
      ],
      "metadata": {
        "id": "6XTm-JZSDatL"
      }
    },
    {
      "cell_type": "markdown",
      "source": [
        "###Solving Systems of Linear Equations using Matrices\n",
        "Linear systems with two equations are easy to solve manually, but preparing for more complicated cases, you will investigate some solution techniques.\n",
        "\n",
        "NumPy linear algebra package provides quick and reliable way to solve the system of linear equations using function np.linalg.solve(A, b). Here\n",
        " is a matrix, each row of which represents one equation in the system and each column corresponds to the variable\n",
        ",\n",
        ". And\n",
        " is a 1-D array of the free (right side) coefficients. More information about the np.linalg.solve()"
      ],
      "metadata": {
        "id": "dck-VlShDxrp"
      }
    },
    {
      "cell_type": "code",
      "source": [
        "import numpy as np"
      ],
      "metadata": {
        "id": "tU6gIrk2EHQt"
      },
      "execution_count": null,
      "outputs": []
    },
    {
      "cell_type": "code",
      "source": [
        "# -x1+3x2=7, 3x1+2x2=1\n",
        "A=np.array([[-1, 3],\n",
        "            [3, 2]\n",
        "           ] , dtype=np.dtype(float))\n",
        "b=np.array([7,1] ,dtype=np.dtype(float))\n",
        "print(A)\n",
        "print(b)"
      ],
      "metadata": {
        "colab": {
          "base_uri": "https://localhost:8080/"
        },
        "id": "ILTAJrdkDnGd",
        "outputId": "b67a92c4-4c74-4e4c-e7ec-0566140d3260"
      },
      "execution_count": null,
      "outputs": [
        {
          "output_type": "stream",
          "name": "stdout",
          "text": [
            "[[-1.  3.]\n",
            " [ 3.  2.]]\n",
            "[7. 1.]\n"
          ]
        }
      ]
    },
    {
      "cell_type": "code",
      "execution_count": null,
      "metadata": {
        "colab": {
          "base_uri": "https://localhost:8080/"
        },
        "id": "-4bgx8ZfDZsD",
        "outputId": "c6b7f300-4725-42f0-b60b-18991a664b92"
      },
      "outputs": [
        {
          "output_type": "stream",
          "name": "stdout",
          "text": [
            "Shape of A: (2, 2)\n",
            "Shape of b: (2,)\n"
          ]
        }
      ],
      "source": [
        "#check the shape of A and b\n",
        "print(f\"Shape of A: {A.shape}\")\n",
        "print(f\"Shape of b: {b.shape}\")\n",
        "\n",
        "# print(f\"Shape of A: {np.shape(A)}\")\n",
        "# print(f\"Shape of A: {np.shape(b)}\")"
      ]
    },
    {
      "cell_type": "code",
      "source": [
        "sol=np.linalg.solve(A,b)\n",
        "sol"
      ],
      "metadata": {
        "colab": {
          "base_uri": "https://localhost:8080/"
        },
        "id": "FeDLt1vEFLeL",
        "outputId": "2ce7d9b0-a017-4906-dd8b-5b46544b95cc"
      },
      "execution_count": null,
      "outputs": [
        {
          "output_type": "execute_result",
          "data": {
            "text/plain": [
              "array([-1.,  2.])"
            ]
          },
          "metadata": {},
          "execution_count": 7
        }
      ]
    },
    {
      "cell_type": "code",
      "source": [
        "#Evaluating Determinant of a Matrix\n",
        "print(f\"the determinant of A matrix is: {np.linalg.det(A):.2f}\")"
      ],
      "metadata": {
        "colab": {
          "base_uri": "https://localhost:8080/"
        },
        "id": "v1X8ZEkSFgbC",
        "outputId": "23858629-9379-4052-bedd-13d1a4ffd50e"
      },
      "execution_count": null,
      "outputs": [
        {
          "output_type": "stream",
          "name": "stdout",
          "text": [
            "the determinant of A matrix is: -11.00\n"
          ]
        }
      ]
    },
    {
      "cell_type": "code",
      "source": [
        "#  System of Linear Equations with No Solutions if det(A)=0\n",
        "A_2 = np.array([\n",
        "        [-1, 3],\n",
        "        [3, -9]\n",
        "    ], dtype=np.dtype(float))\n",
        "\n",
        "b_2 = np.array([7, 1], dtype=np.dtype(float))\n",
        "\n",
        "d_2 = np.linalg.det(A_2)\n",
        "\n",
        "print(f\"Determinant of matrix A_2: {d_2:.2f}\")\n"
      ],
      "metadata": {
        "colab": {
          "base_uri": "https://localhost:8080/"
        },
        "id": "NFComC39GE4v",
        "outputId": "dd70428c-43a4-4e97-d9ef-9a4490b561a3"
      },
      "execution_count": null,
      "outputs": [
        {
          "output_type": "stream",
          "name": "stdout",
          "text": [
            "Determinant of matrix A_2: 0.00\n"
          ]
        }
      ]
    },
    {
      "cell_type": "code",
      "source": [
        "# System of Linear Equations with Infinite Number of Solutions\n",
        "A3=np.array([\n",
        "    [-1, 3],\n",
        "    [3,-9]\n",
        "])\n",
        "b3=np.array([7, -21])"
      ],
      "metadata": {
        "id": "rfokCsijG103"
      },
      "execution_count": null,
      "outputs": []
    },
    {
      "cell_type": "code",
      "source": [
        "x2=np.hstack((A,b3.reshape(2,1)))\n",
        "x2"
      ],
      "metadata": {
        "colab": {
          "base_uri": "https://localhost:8080/"
        },
        "id": "18Vz7BW2HNAb",
        "outputId": "e46cb1a3-966f-4299-e242-63199e89af2b"
      },
      "execution_count": null,
      "outputs": [
        {
          "output_type": "execute_result",
          "data": {
            "text/plain": [
              "array([[ -1.,   3.,   7.],\n",
              "       [  3.,   2., -21.]])"
            ]
          },
          "metadata": {},
          "execution_count": 19
        }
      ]
    },
    {
      "cell_type": "markdown",
      "source": [
        "#Matrix multiplication\n",
        "Mathematically, matrix multiplication is defined only if number of the columns of matrix A is equal to the number of the rows of matrix B\n",
        "mXn =nXp"
      ],
      "metadata": {
        "id": "4fitLJqSMOG_"
      }
    },
    {
      "cell_type": "code",
      "source": [
        "A=np.array([\n",
        "    [2,4,5],\n",
        "    [3,6,3],\n",
        "])          #dimention 2X3\n",
        "B=np.array([\n",
        "    [1,2,3],\n",
        "    [4,3,6],\n",
        "    [4,2,7]\n",
        "])         #dimention 3X2\n",
        "np.matmul(A,B)"
      ],
      "metadata": {
        "colab": {
          "base_uri": "https://localhost:8080/"
        },
        "id": "oDswLXCPIJt0",
        "outputId": "1f6bed1c-1c3f-4023-a79d-8fea82cd8ad9"
      },
      "execution_count": null,
      "outputs": [
        {
          "output_type": "execute_result",
          "data": {
            "text/plain": [
              "array([[38, 26, 65],\n",
              "       [39, 30, 66]])"
            ]
          },
          "metadata": {},
          "execution_count": 24
        }
      ]
    },
    {
      "cell_type": "code",
      "source": [
        "A@B   # @ only works with numpy array"
      ],
      "metadata": {
        "colab": {
          "base_uri": "https://localhost:8080/"
        },
        "id": "sJQjjNSNNSlf",
        "outputId": "cc1edacd-07e0-4963-fc30-f3feaa8b8ebd"
      },
      "execution_count": null,
      "outputs": [
        {
          "output_type": "execute_result",
          "data": {
            "text/plain": [
              "array([[38, 26, 65],\n",
              "       [39, 30, 66]])"
            ]
          },
          "metadata": {},
          "execution_count": 25
        }
      ]
    },
    {
      "cell_type": "code",
      "source": [
        "#  Scalar Multiplication and Sum of Vectors\n",
        "x = [1, -2, -5]\n",
        "y = [4, 3, -1]"
      ],
      "metadata": {
        "id": "c5TY4Y_mN6qI"
      },
      "execution_count": null,
      "outputs": []
    },
    {
      "cell_type": "code",
      "source": [
        "def dot(x, y):\n",
        "    s=0\n",
        "    for xi, yi in zip(x, y):\n",
        "        s += xi * yi\n",
        "    return s"
      ],
      "metadata": {
        "id": "4tmn0dZvOF2k"
      },
      "execution_count": null,
      "outputs": []
    },
    {
      "cell_type": "code",
      "source": [
        "\n",
        "print(\"The dot product of x and y is\", dot(x, y))"
      ],
      "metadata": {
        "colab": {
          "base_uri": "https://localhost:8080/"
        },
        "id": "C28C949sOKaN",
        "outputId": "9f22dbef-3ec0-44a3-bb23-dbff2b94654c"
      },
      "execution_count": null,
      "outputs": [
        {
          "output_type": "stream",
          "name": "stdout",
          "text": [
            "The dot product of x and y is 3\n"
          ]
        }
      ]
    },
    {
      "cell_type": "code",
      "source": [
        "# t product is very a commonly used operator, so NumPy linear algebra package provides quick way to calculate it using function np.dot():\n",
        "np.dot(x,y)"
      ],
      "metadata": {
        "colab": {
          "base_uri": "https://localhost:8080/"
        },
        "id": "_Mc5-Q85OXxk",
        "outputId": "6184b226-11ee-4467-90bd-9eefd91b920c"
      },
      "execution_count": null,
      "outputs": [
        {
          "output_type": "execute_result",
          "data": {
            "text/plain": [
              "3"
            ]
          },
          "metadata": {},
          "execution_count": 29
        }
      ]
    },
    {
      "cell_type": "code",
      "source": [
        "# A=(2x1 + 4x2 + 5=0)\n",
        "# B=(5x1 + 2x2 + 9)\n",
        "#calculate the dot product of the two vector A and B"
      ],
      "metadata": {
        "id": "5k0hXacjOqkM"
      },
      "execution_count": null,
      "outputs": []
    },
    {
      "cell_type": "code",
      "source": [
        "# soln:\n",
        "A=np.array([2, 4, 5])\n",
        "B=np.array([5, 2, 9])\n",
        "np.dot(A,B)"
      ],
      "metadata": {
        "colab": {
          "base_uri": "https://localhost:8080/"
        },
        "id": "VtkW9ywNP2Ul",
        "outputId": "06f9118f-3649-4171-cff4-4b34fa5fcd40"
      },
      "execution_count": null,
      "outputs": [
        {
          "output_type": "execute_result",
          "data": {
            "text/plain": [
              "63"
            ]
          },
          "metadata": {},
          "execution_count": 33
        }
      ]
    },
    {
      "cell_type": "code",
      "source": [
        "# also doing this dot product by @\n",
        "A@B"
      ],
      "metadata": {
        "colab": {
          "base_uri": "https://localhost:8080/"
        },
        "id": "itHeZwqZQGQ0",
        "outputId": "bcf5067f-a508-42b3-b127-0606b410b192"
      },
      "execution_count": null,
      "outputs": [
        {
          "output_type": "execute_result",
          "data": {
            "text/plain": [
              "63"
            ]
          },
          "metadata": {},
          "execution_count": 34
        }
      ]
    },
    {
      "cell_type": "code",
      "source": [
        "# Define three vectors\n",
        "A = np.array([1, 2, 3])\n",
        "B = np.array([4, 5, 6])\n",
        "\n",
        "print(np.dot(A, B))\n",
        "print(A@B)"
      ],
      "metadata": {
        "colab": {
          "base_uri": "https://localhost:8080/"
        },
        "id": "otAW3utvQXgl",
        "outputId": "efe126ea-a147-47b7-8dfa-83b177bfe93c"
      },
      "execution_count": null,
      "outputs": [
        {
          "output_type": "stream",
          "name": "stdout",
          "text": [
            "32\n",
            "32\n"
          ]
        }
      ]
    },
    {
      "cell_type": "code",
      "source": [
        "# distance from origin -> euclidean norm\n",
        "# Define an n-dimensional vector A\n",
        "A = np.array([1, 2, 3, 4, 5,6,7,8,9,10,11,112,12])\n",
        "# Calculate the Euclidean distance from the origin\n",
        "Distance=np.linalg.norm(A)\n",
        "Distance"
      ],
      "metadata": {
        "colab": {
          "base_uri": "https://localhost:8080/"
        },
        "id": "KkGB_F2uQhRG",
        "outputId": "8c31ff1e-7700-4849-dbed-085b94d2425c"
      },
      "execution_count": null,
      "outputs": [
        {
          "output_type": "execute_result",
          "data": {
            "text/plain": [
              "114.86513831445988"
            ]
          },
          "metadata": {},
          "execution_count": 40
        }
      ]
    },
    {
      "cell_type": "code",
      "source": [
        "# to find euclidean distance in n-D\n",
        "# A and B are two vector , the distance of this two line is root over |A-B|\n",
        "import numpy as np\n",
        "\n",
        "# Define two n-dimensional vectors A and B\n",
        "A = np.array([1, 2, 3, 4, 5])\n",
        "B = np.array([6, 7, 8, 9, 10])\n",
        "\n",
        "# Calculate the difference vector\n",
        "difference = A - B\n",
        "\n",
        "difference\n"
      ],
      "metadata": {
        "colab": {
          "base_uri": "https://localhost:8080/"
        },
        "id": "tpNNtWh1RouX",
        "outputId": "2042964e-0263-4489-c64d-9de3475cdeb9"
      },
      "execution_count": null,
      "outputs": [
        {
          "output_type": "execute_result",
          "data": {
            "text/plain": [
              "array([-5, -5, -5, -5, -5])"
            ]
          },
          "metadata": {},
          "execution_count": 41
        }
      ]
    },
    {
      "cell_type": "code",
      "source": [
        "print(f\"the distance of A and B is: {np.linalg.norm(difference)}\")"
      ],
      "metadata": {
        "colab": {
          "base_uri": "https://localhost:8080/"
        },
        "id": "rX-OPDHwSEZL",
        "outputId": "da1c7526-111e-430f-fd02-1fbb77836911"
      },
      "execution_count": null,
      "outputs": [
        {
          "output_type": "stream",
          "name": "stdout",
          "text": [
            "the distance of A and B is: 11.180339887498949\n"
          ]
        }
      ]
    }
  ]
}